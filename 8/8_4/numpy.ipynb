{
 "cells": [
  {
   "cell_type": "markdown",
   "metadata": {},
   "source": [
    "### Тут очень вкратце поговорим про numpy"
   ]
  },
  {
   "cell_type": "markdown",
   "metadata": {},
   "source": [
    "NumPy — это библиотека Python для работы с массивами и матрицами, а также для выполнения разнообразных математических и логических операций над ними. Эта библиотека предоставляет высокопроизводительные структуры данных и реализует широкий набор функций для обработки числовых данных.\n",
    "\n",
    "Основные особенности NumPy:\n",
    "\n",
    "1. Массивы и матрицы: Основная структура данных NumPy — это массивы (numpy.ndarray), которые могут быть многомерными.\n",
    "2. Высокая производительность: NumPy написана на C, что делает операции с массивами намного быстрее, чем стандартные операции Python.\n",
    "3. Широкий набор функций: Включает функции для линейной алгебры, статистики, генерации случайных чисел и других математических операций.\n",
    "4. Интеграция с другими библиотеками: NumPy хорошо интегрируется с такими библиотеками, как SciPy, Pandas, Matplotlib и другими."
   ]
  },
  {
   "cell_type": "markdown",
   "metadata": {},
   "source": [
    "**Примеры использования:**\n",
    "1. Создание массивов"
   ]
  },
  {
   "cell_type": "code",
   "execution_count": 1,
   "metadata": {},
   "outputs": [
    {
     "name": "stdout",
     "output_type": "stream",
     "text": [
      "[1 2 3 4 5]\n",
      "[[1 2 3]\n",
      " [4 5 6]]\n"
     ]
    }
   ],
   "source": [
    "import numpy as np\n",
    "\n",
    "# Одномерный массив\n",
    "arr = np.array([1, 2, 3, 4, 5])\n",
    "print(arr)\n",
    "\n",
    "# Двумерный массив (матрица)\n",
    "matrix = np.array([[1, 2, 3], [4, 5, 6]])\n",
    "print(matrix)\n"
   ]
  },
  {
   "cell_type": "markdown",
   "metadata": {},
   "source": [
    "2. Операции с массивами"
   ]
  },
  {
   "cell_type": "code",
   "execution_count": 2,
   "metadata": {},
   "outputs": [
    {
     "name": "stdout",
     "output_type": "stream",
     "text": [
      "[5 7 9]\n",
      "[3 6 9]\n"
     ]
    }
   ],
   "source": [
    "# Сложение массивов\n",
    "arr1 = np.array([1, 2, 3])\n",
    "arr2 = np.array([4, 5, 6])\n",
    "result = arr1 + arr2\n",
    "print(result)  # [5, 7, 9]\n",
    "\n",
    "# Умножение массива на скаляр\n",
    "scalar_mult = arr1 * 3\n",
    "print(scalar_mult)  # [3, 6, 9]\n"
   ]
  },
  {
   "cell_type": "markdown",
   "metadata": {},
   "source": [
    "3. Функции NumPy"
   ]
  },
  {
   "cell_type": "code",
   "execution_count": 3,
   "metadata": {},
   "outputs": [
    {
     "name": "stdout",
     "output_type": "stream",
     "text": [
      "[0.         0.11111111 0.22222222 0.33333333 0.44444444 0.55555556\n",
      " 0.66666667 0.77777778 0.88888889 1.        ]\n",
      "3.0\n",
      "1.4142135623730951\n"
     ]
    }
   ],
   "source": [
    "# Создание массива из 10 чисел, равномерно распределённых между 0 и 1\n",
    "linspace_array = np.linspace(0, 1, 10)\n",
    "print(linspace_array)\n",
    "\n",
    "# Среднее значение массива\n",
    "mean_value = np.mean(arr)\n",
    "print(mean_value)  # 3.0\n",
    "\n",
    "# Стандартное отклонение массива\n",
    "std_dev = np.std(arr)\n",
    "print(std_dev)  # 1.4142135623730951\n"
   ]
  },
  {
   "cell_type": "markdown",
   "metadata": {},
   "source": [
    "4. Генерация случайных чисел"
   ]
  },
  {
   "cell_type": "code",
   "execution_count": 4,
   "metadata": {},
   "outputs": [
    {
     "name": "stdout",
     "output_type": "stream",
     "text": [
      "[0.66106798 0.624995   0.30277407 0.17948929 0.87401848]\n",
      "[3 5 4 2 5]\n"
     ]
    }
   ],
   "source": [
    "# Случайные числа от 0 до 1\n",
    "random_array = np.random.rand(5)\n",
    "print(random_array)\n",
    "\n",
    "# Случайные целые числа в диапазоне от 0 до 10\n",
    "random_int_array = np.random.randint(0, 10, size=5)\n",
    "print(random_int_array)\n"
   ]
  },
  {
   "cell_type": "markdown",
   "metadata": {},
   "source": [
    "5. Линейная алгебра"
   ]
  },
  {
   "cell_type": "code",
   "execution_count": 5,
   "metadata": {},
   "outputs": [
    {
     "name": "stdout",
     "output_type": "stream",
     "text": [
      "[[19 22]\n",
      " [43 50]]\n",
      "-2.0000000000000004\n"
     ]
    }
   ],
   "source": [
    "# Умножение матриц\n",
    "matrix1 = np.array([[1, 2], [3, 4]])\n",
    "matrix2 = np.array([[5, 6], [7, 8]])\n",
    "matrix_product = np.dot(matrix1, matrix2)\n",
    "print(matrix_product)\n",
    "\n",
    "# Определитель матрицы\n",
    "det_matrix1 = np.linalg.det(matrix1)\n",
    "print(det_matrix1)  # -2.0000000000000004\n"
   ]
  }
 ],
 "metadata": {
  "kernelspec": {
   "display_name": ".venv",
   "language": "python",
   "name": "python3"
  },
  "language_info": {
   "codemirror_mode": {
    "name": "ipython",
    "version": 3
   },
   "file_extension": ".py",
   "mimetype": "text/x-python",
   "name": "python",
   "nbconvert_exporter": "python",
   "pygments_lexer": "ipython3",
   "version": "3.11.9"
  }
 },
 "nbformat": 4,
 "nbformat_minor": 2
}
