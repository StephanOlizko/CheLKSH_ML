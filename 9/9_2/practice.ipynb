{
 "cells": [
  {
   "cell_type": "markdown",
   "metadata": {},
   "source": [
    "#### Давайте попрактикуемся работать с pandas"
   ]
  },
  {
   "cell_type": "markdown",
   "metadata": {},
   "source": [
    "\n",
    "Загрузите датасет \"Titanic-Dataset-Processed.csv\"\n",
    "\n",
    "___\n",
    "1. Посчитайте медиану возраста пассажиров из датасета. \n",
    "2. Найдите возраст самого молодого мужчины который ехал в первом классе. \n"
   ]
  },
  {
   "cell_type": "code",
   "execution_count": null,
   "metadata": {},
   "outputs": [],
   "source": [
    "#Ваш код..."
   ]
  },
  {
   "cell_type": "markdown",
   "metadata": {},
   "source": [
    "___\n",
    "Вам необходимо будет поработать со столбцом Cabin. *\n",
    "\n",
    "1. Посмотрите как он выглядит, выведите статистику\n",
    "2. Изучите столбец Cabin: Какие есть значения? Есть ли пропуски? Подумайте как можно использовать информацию из этого столбца?\n",
    "3. Выделите признаки которые могут использоваться для обучения/предсказания моделью."
   ]
  },
  {
   "cell_type": "code",
   "execution_count": 3,
   "metadata": {},
   "outputs": [],
   "source": [
    "import pandas as pd\n",
    "\n",
    "#Ваш код ниже..."
   ]
  }
 ],
 "metadata": {
  "kernelspec": {
   "display_name": ".venv",
   "language": "python",
   "name": "python3"
  },
  "language_info": {
   "codemirror_mode": {
    "name": "ipython",
    "version": 3
   },
   "file_extension": ".py",
   "mimetype": "text/x-python",
   "name": "python",
   "nbconvert_exporter": "python",
   "pygments_lexer": "ipython3",
   "version": "3.11.9"
  }
 },
 "nbformat": 4,
 "nbformat_minor": 2
}
