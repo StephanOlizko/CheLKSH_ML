{
 "cells": [
  {
   "cell_type": "markdown",
   "metadata": {},
   "source": [
    "### Мини проект\n",
    "\n",
    "Вы уже знаете базовые методы машинного обучения"
   ]
  },
  {
   "cell_type": "markdown",
   "metadata": {},
   "source": [
    "Iris Dataset\n",
    "\n",
    "    sepal_length: Длина чашелистика (см)\n",
    "    sepal_width: Ширина чашелистика (см)\n",
    "    petal_length: Длина лепестка (см)\n",
    "    petal_width: Ширина лепестка (см)\n",
    "    species: Вид ириса (Setosa, Versicolor, Virginica)"
   ]
  },
  {
   "cell_type": "markdown",
   "metadata": {},
   "source": [
    "Wine Quality Dataset\n",
    "\n",
    "    fixed acidity: Фиксированная кислотность\n",
    "    volatile acidity: Летучая кислотность\n",
    "    citric acid: Содержание лимонной кислоты\n",
    "    residual sugar: Остаточный сахар (г/л)\n",
    "    chlorides: Содержание хлоридов (г/л)\n",
    "    free sulfur dioxide: Свободный диоксид серы (мг/л)\n",
    "    total sulfur dioxide: Общий диоксид серы (мг/л)\n",
    "    density: Плотность\n",
    "    pH: Уровень pH\n",
    "    sulphates: Содержание сульфатов (г/л)\n",
    "    alcohol: Содержание алкоголя (% об.)\n",
    "    quality: Оценка качества (от 0 до 10)"
   ]
  },
  {
   "cell_type": "markdown",
   "metadata": {},
   "source": [
    "Breast Cancer Wisconsin Dataset\n",
    "\n",
    "    id: Идентификатор\n",
    "    diagnosis: Диагноз (M = злокачественный, B = доброкачественный)\n",
    "    radius_mean: Средний радиус (среднее расстояние от центра до границы)\n",
    "    texture_mean: Средняя текстура (стандартное отклонение значений серого)\n",
    "    perimeter_mean: Средний периметр\n",
    "    area_mean: Средняя площадь\n",
    "    smoothness_mean: Средняя гладкость (локальная вариация в длине радиуса)\n",
    "    compactness_mean: Средняя компактность (периметр^2 / площадь - 1.0)\n",
    "    concavity_mean: Средняя вогнутость (степень вогнутости контура)\n",
    "    concave points_mean: Среднее количество вогнутых точек\n",
    "    symmetry_mean: Средняя симметрия\n",
    "    fractal_dimension_mean: Средняя фрактальная размерность\n",
    "    (другие поля аналогичны вышеописанным, они также содержат численные значения)"
   ]
  }
 ],
 "metadata": {
  "language_info": {
   "name": "python"
  }
 },
 "nbformat": 4,
 "nbformat_minor": 2
}
