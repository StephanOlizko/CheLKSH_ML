{
 "cells": [
  {
   "cell_type": "markdown",
   "metadata": {},
   "source": [
    "## Давайте попрактикуемся в использовании jupiter notebook"
   ]
  },
  {
   "cell_type": "markdown",
   "metadata": {},
   "source": [
    "___"
   ]
  },
  {
   "cell_type": "markdown",
   "metadata": {},
   "source": [
    "1. Загрузите код из файла example.py"
   ]
  },
  {
   "cell_type": "code",
   "execution_count": 3,
   "metadata": {},
   "outputs": [],
   "source": [
    "# %load example.py\n",
    "\n",
    "\n",
    "def some_function():\n",
    "    a = 1\n",
    "    for i in range(10000000):\n",
    "        a += i\n",
    "    return a\n",
    "\n",
    "\n"
   ]
  },
  {
   "cell_type": "markdown",
   "metadata": {},
   "source": [
    "___\n",
    "Выведите результат который возвращает загруженная функция"
   ]
  },
  {
   "cell_type": "code",
   "execution_count": 4,
   "metadata": {},
   "outputs": [
    {
     "data": {
      "text/plain": [
       "49999995000001"
      ]
     },
     "execution_count": 4,
     "metadata": {},
     "output_type": "execute_result"
    }
   ],
   "source": [
    "some_function()"
   ]
  },
  {
   "cell_type": "markdown",
   "metadata": {},
   "source": [
    "___\n",
    "Измерьте время выполнения загруженной функции"
   ]
  },
  {
   "cell_type": "code",
   "execution_count": 5,
   "metadata": {},
   "outputs": [
    {
     "name": "stdout",
     "output_type": "stream",
     "text": [
      "CPU times: total: 234 ms\n",
      "Wall time: 304 ms\n"
     ]
    },
    {
     "data": {
      "text/plain": [
       "49999995000001"
      ]
     },
     "execution_count": 5,
     "metadata": {},
     "output_type": "execute_result"
    }
   ],
   "source": [
    "%time some_function()"
   ]
  },
  {
   "cell_type": "markdown",
   "metadata": {},
   "source": [
    "___\n",
    "Измерьте среднее время выполнения загруженной функции"
   ]
  },
  {
   "cell_type": "code",
   "execution_count": 6,
   "metadata": {},
   "outputs": [
    {
     "name": "stdout",
     "output_type": "stream",
     "text": [
      "273 ms ± 2.39 ms per loop (mean ± std. dev. of 7 runs, 1 loop each)\n"
     ]
    }
   ],
   "source": [
    "%timeit some_function()"
   ]
  },
  {
   "cell_type": "markdown",
   "metadata": {},
   "source": [
    "___\n"
   ]
  },
  {
   "cell_type": "code",
   "execution_count": 7,
   "metadata": {},
   "outputs": [],
   "source": [
    "# Функция для проверки на палиндром\n",
    "def is_palindrome(s):\n",
    "    # Приведение строки к нижнему регистру и удаление пробелов\n",
    "    s = s.replace(\" \", \"\").lower()\n",
    "    # Проверка, является ли строка палиндромом\n",
    "    return s == s[::-1]"
   ]
  },
  {
   "cell_type": "code",
   "execution_count": 9,
   "metadata": {},
   "outputs": [
    {
     "name": "stdout",
     "output_type": "stream",
     "text": [
      "All tests passed!\n"
     ]
    }
   ],
   "source": [
    "# Тесткейсы для проверки функции на палиндром\n",
    "test_cases = {\n",
    "    \"казак\": True,\n",
    "    \"шалаш\": True,\n",
    "    \"привет\": False,\n",
    "    \"level\": True,\n",
    "    \"hello\": False,\n",
    "    \"А роза упала на лапу Азора\": True,  # Игнорируем пробелы и регистр\n",
    "    \"тест\": False,\n",
    "    \"Madam\": True,  # Игнорируем регистр\n",
    "    \"Was it a car or a cat I saw\": True,  # Игнорируем пробелы и регистр\n",
    "    \" \": True,  # Пустая строка считается палиндромом\n",
    "    \"A man a plan a canal Panama\": True  # Игнорируем пробелы и регистр\n",
    "}\n",
    "\n",
    "# Пример функции для проверки тесткейсов\n",
    "def run_test_cases(test_cases):\n",
    "    for word, expected in test_cases.items():\n",
    "        result = is_palindrome(word)\n",
    "        assert result == expected, f\"Test failed for input '{word}': expected {expected}, got {result}\"\n",
    "    print(\"All tests passed!\")\n",
    "\n",
    "# Запуск тестов\n",
    "run_test_cases(test_cases)\n"
   ]
  }
 ],
 "metadata": {
  "kernelspec": {
   "display_name": ".venv",
   "language": "python",
   "name": "python3"
  },
  "language_info": {
   "codemirror_mode": {
    "name": "ipython",
    "version": 3
   },
   "file_extension": ".py",
   "mimetype": "text/x-python",
   "name": "python",
   "nbconvert_exporter": "python",
   "pygments_lexer": "ipython3",
   "version": "3.11.9"
  }
 },
 "nbformat": 4,
 "nbformat_minor": 2
}
