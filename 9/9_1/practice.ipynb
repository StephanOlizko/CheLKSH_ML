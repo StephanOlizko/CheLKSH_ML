{
 "cells": [
  {
   "cell_type": "markdown",
   "metadata": {},
   "source": [
    "## Давайте попрактикуемся в использовании jupiter notebook"
   ]
  },
  {
   "cell_type": "markdown",
   "metadata": {},
   "source": [
    "___"
   ]
  },
  {
   "cell_type": "markdown",
   "metadata": {},
   "source": [
    "1. Загрузите код из файла example.py"
   ]
  },
  {
   "cell_type": "code",
   "execution_count": 2,
   "metadata": {},
   "outputs": [],
   "source": [
    "#Введите команду для загрузки кода из файла example.py\n",
    "\n",
    "#%..."
   ]
  },
  {
   "cell_type": "markdown",
   "metadata": {},
   "source": [
    "___\n",
    "2. Выведите результат который возвращает загруженная функция"
   ]
  },
  {
   "cell_type": "code",
   "execution_count": null,
   "metadata": {},
   "outputs": [],
   "source": [
    "#..."
   ]
  },
  {
   "cell_type": "markdown",
   "metadata": {},
   "source": [
    "___\n",
    "3. Измерьте время выполнения загруженной функции"
   ]
  },
  {
   "cell_type": "code",
   "execution_count": null,
   "metadata": {},
   "outputs": [],
   "source": [
    "#%..."
   ]
  },
  {
   "cell_type": "markdown",
   "metadata": {},
   "source": [
    "___\n",
    "4. Измерьте среднее время выполнения загруженной функции"
   ]
  },
  {
   "cell_type": "code",
   "execution_count": null,
   "metadata": {},
   "outputs": [],
   "source": [
    "#%..."
   ]
  },
  {
   "cell_type": "markdown",
   "metadata": {},
   "source": [
    "___\n",
    "5. Напишите функцию, которая проверяет, является ли введенная строка палиндромом. Палиндром — это слово или фраза, которые читаются одинаково как слева направо, так и справа налево (например, \"казак\", \"шалаш\"). Игнорируйте пробелы и различия в регистре. После этого протестируйте функцию на приведенных ниже примерах и сохраните как отдельный файл с помощью магических команд jupiter. *"
   ]
  },
  {
   "cell_type": "code",
   "execution_count": null,
   "metadata": {},
   "outputs": [],
   "source": [
    "test_cases = {\n",
    "    \"казак\": True,\n",
    "    \"шалаш\": True,\n",
    "    \"привет\": False,\n",
    "    \"level\": True,\n",
    "    \"hello\": False,\n",
    "    \"А роза упала на лапу Азора\": True,  # Игнорируем пробелы и регистр\n",
    "    \"тест\": False,\n",
    "    \"Madam\": True,  # Игнорируем регистр\n",
    "    \"Was it a car or a cat I saw\": True,  # Игнорируем пробелы и регистр\n",
    "    \" \": True,  # Пустая строка считается палиндромом\n",
    "    \"A man a plan a canal Panama\": True  # Игнорируем пробелы и регистр\n",
    "}"
   ]
  }
 ],
 "metadata": {
  "kernelspec": {
   "display_name": ".venv",
   "language": "python",
   "name": "python3"
  },
  "language_info": {
   "codemirror_mode": {
    "name": "ipython",
    "version": 3
   },
   "file_extension": ".py",
   "mimetype": "text/x-python",
   "name": "python",
   "nbconvert_exporter": "python",
   "pygments_lexer": "ipython3",
   "version": "3.11.9"
  }
 },
 "nbformat": 4,
 "nbformat_minor": 2
}
